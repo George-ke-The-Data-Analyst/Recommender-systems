{
 "cells": [
  {
   "cell_type": "code",
   "execution_count": 2,
   "metadata": {},
   "outputs": [],
   "source": [
    "# This notebook is used essentially to create a lab work that looks into explaining the concepts of user based and item based collaborative filtering\n",
    "import pandas as pd\n",
    "from sklearn.metrics.pairwise import cosine_similarity\n",
    "# Define a small dataset with user-item ratings\n",
    "data = {\n",
    "    'userId': [1, 1, 1, 2, 2, 3, 3, 4],\n",
    "    'movieId': [101, 102, 103, 101, 102, 103, 104, 104],\n",
    "    'rating': [5, 3, 2, 4, 5, 1, 4, 3]\n",
    "}"
   ]
  },
  {
   "cell_type": "code",
   "execution_count": 3,
   "metadata": {},
   "outputs": [
    {
     "name": "stdout",
     "output_type": "stream",
     "text": [
      "User-Item Matrix:\n",
      "movieId  101  102  103  104\n",
      "userId                     \n",
      "1        5.0  3.0  2.0  0.0\n",
      "2        4.0  5.0  0.0  0.0\n",
      "3        0.0  0.0  1.0  4.0\n",
      "4        0.0  0.0  0.0  3.0\n"
     ]
    }
   ],
   "source": [
    "# Create DataFrame\n",
    "ratings_df = pd.DataFrame(data)\n",
    "\n",
    "# Create the User-Item matrix\n",
    "user_item_matrix = ratings_df.pivot(index='userId', columns='movieId', values='rating').fillna(0)\n",
    "\n",
    "# Display the matrix\n",
    "print(\"User-Item Matrix:\")\n",
    "print(user_item_matrix)"
   ]
  },
  {
   "cell_type": "code",
   "execution_count": 4,
   "metadata": {},
   "outputs": [],
   "source": [
    "# Compute cosine similarity between users\n",
    "user_similarity = cosine_similarity(user_item_matrix)\n",
    "\n",
    "# Convert to DataFrame for readability\n",
    "user_similarity_df = pd.DataFrame(user_similarity, index=user_item_matrix.index, columns=user_item_matrix.index)\n"
   ]
  },
  {
   "cell_type": "code",
   "execution_count": 5,
   "metadata": {},
   "outputs": [],
   "source": [
    "# Function to recommend items for a given user\n",
    "def recommend_user_based(user_id, num_recommendations=2):\n",
    "    # Find the most similar users\n",
    "    similar_users = user_similarity_df[user_id].sort_values(ascending=False).index[1:]\n",
    "    \n",
    "    # Average the ratings of the similar users for unseen movies\n",
    "    similar_users_ratings = user_item_matrix.loc[similar_users].mean().sort_values(ascending=False)\n",
    "    \n",
    "    # Filter out movies the user has already rated\n",
    "    user_rated_movies = user_item_matrix.loc[user_id][user_item_matrix.loc[user_id] > 0].index\n",
    "    recommendations = similar_users_ratings.drop(user_rated_movies)\n",
    "    \n",
    "    return recommendations.head(num_recommendations)"
   ]
  },
  {
   "cell_type": "code",
   "execution_count": 13,
   "metadata": {},
   "outputs": [
    {
     "name": "stdout",
     "output_type": "stream",
     "text": [
      "\n",
      "User-Based Recommendations for User 3:\n",
      "movieId\n",
      "101    3.000000\n",
      "102    2.666667\n",
      "dtype: float64\n"
     ]
    }
   ],
   "source": [
    "# Recommend 2 movies for user with user_id = 3\n",
    "user_based_recommendations = recommend_user_based(3, 2)\n",
    "print(\"\\nUser-Based Recommendations for User 3:\")\n",
    "print(user_based_recommendations)"
   ]
  },
  {
   "cell_type": "markdown",
   "metadata": {},
   "source": [
    "**ITEM BASED COLLABORATIVE FILTERING**\n",
    "Calculate similarity between items using user ratings. Recommend items similar to those the user has liked.\n",
    "\n",
    "**ADVANTAGES OF ITEM BASED**\n",
    "1. More stable and computationally efficient compared to UBCF because the number of items is often smaller than the number of users.\n",
    "2. More robust to the cold-start problem because it does not require as many ratings from a specific user to generate recommendations.\n"
   ]
  },
  {
   "cell_type": "code",
   "execution_count": 7,
   "metadata": {},
   "outputs": [],
   "source": [
    "# Compute cosine similarity between items (movies)\n",
    "item_similarity = cosine_similarity(user_item_matrix.T)"
   ]
  },
  {
   "cell_type": "code",
   "execution_count": 8,
   "metadata": {},
   "outputs": [],
   "source": [
    "# Convert to DataFrame for readability\n",
    "item_similarity_df = pd.DataFrame(item_similarity, index=user_item_matrix.columns, columns=user_item_matrix.columns)\n"
   ]
  },
  {
   "cell_type": "code",
   "execution_count": 9,
   "metadata": {},
   "outputs": [],
   "source": [
    "# Function to recommend items based on items the user has already rated (item-based filtering)\n",
    "def recommend_item_based(user_id, num_recommendations=5):\n",
    "    # Get the movies the user has rated\n",
    "    user_ratings = user_item_matrix.loc[user_id]\n",
    "    \n",
    "    # For each rated movie, find similar movies\n",
    "    similar_items = []\n",
    "    for movie in user_ratings[user_ratings > 0].index:\n",
    "        similar_items.append(item_similarity_df[movie])\n",
    "    \n",
    "    # Concatenate the list of Series into a single Series\n",
    "    similar_items = pd.concat(similar_items)\n",
    "    \n",
    "    # Average the similarity scores and drop movies the user has already rated\n",
    "    similar_items = similar_items.groupby(similar_items.index).mean().sort_values(ascending=False)\n",
    "    recommendations = similar_items.drop(user_ratings[user_ratings > 0].index)\n",
    "    \n",
    "    return recommendations.head(num_recommendations)\n"
   ]
  },
  {
   "cell_type": "code",
   "execution_count": 15,
   "metadata": {},
   "outputs": [
    {
     "name": "stdout",
     "output_type": "stream",
     "text": [
      "\n",
      "Item-Based Recommendations for User 1:\n",
      "movieId\n",
      "101    0.349215\n",
      "102    0.230089\n",
      "dtype: float64\n"
     ]
    }
   ],
   "source": [
    "# Recommend 2 movies for user with user_id = 1\n",
    "item_based_recommendations = recommend_item_based(3, 5)\n",
    "print(\"\\nItem-Based Recommendations for User 1:\")\n",
    "print(item_based_recommendations)"
   ]
  },
  {
   "cell_type": "markdown",
   "metadata": {},
   "source": [
    "**Matrix Factorization for Recommendations**\n",
    "Matrix Factorization is a technique used to discover latent factors in user-item interactions. It breaks down the user-item matrix into two smaller matrices, representing users and items in a reduced-dimensional latent space.\n",
    "\n",
    "Decompose the user-item matrix  into matrices  (user matrix) and  (item matrix).\n",
    "\n"
   ]
  },
  {
   "cell_type": "code",
   "execution_count": 11,
   "metadata": {},
   "outputs": [
    {
     "name": "stdout",
     "output_type": "stream",
     "text": [
      "movieId       101       102       103       104\n",
      "userId                                         \n",
      "1        4.388569  3.927760  0.995440  0.198161\n",
      "2        4.583866  4.111559  0.969534 -0.191094\n",
      "3        0.078199 -0.021528  0.730837  4.046982\n",
      "4       -0.028789 -0.091625  0.506652  2.908573\n"
     ]
    }
   ],
   "source": [
    "import numpy as np\n",
    "from sklearn.decomposition import TruncatedSVD #SVD means singular value decomposition\n",
    "# Create DataFrame and User-Item Matrix\n",
    "ratings_df = pd.DataFrame(data)\n",
    "user_item_matrix = ratings_df.pivot(index='userId', columns='movieId', values='rating').fillna(0)\n",
    "\n",
    "# Perform Matrix Factorization using SVD\n",
    "svd = TruncatedSVD(n_components=2)\n",
    "user_features = svd.fit_transform(user_item_matrix)\n",
    "item_features = svd.components_\n",
    "\n",
    "# Reconstructed matrix\n",
    "reconstructed_matrix = np.dot(user_features, item_features)\n",
    "reconstructed_df = pd.DataFrame(reconstructed_matrix, index=user_item_matrix.index, columns=user_item_matrix.columns)\n",
    "print(reconstructed_df)"
   ]
  }
 ],
 "metadata": {
  "kernelspec": {
   "display_name": "base",
   "language": "python",
   "name": "python3"
  },
  "language_info": {
   "codemirror_mode": {
    "name": "ipython",
    "version": 3
   },
   "file_extension": ".py",
   "mimetype": "text/x-python",
   "name": "python",
   "nbconvert_exporter": "python",
   "pygments_lexer": "ipython3",
   "version": "3.9.7"
  }
 },
 "nbformat": 4,
 "nbformat_minor": 2
}
